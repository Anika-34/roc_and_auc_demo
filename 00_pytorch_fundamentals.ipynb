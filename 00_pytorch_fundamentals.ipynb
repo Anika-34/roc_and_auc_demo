{
  "nbformat": 4,
  "nbformat_minor": 0,
  "metadata": {
    "colab": {
      "provenance": [],
      "authorship_tag": "ABX9TyPr+ahgRUeopEt6C5L9eC9m",
      "include_colab_link": true
    },
    "kernelspec": {
      "name": "python3",
      "display_name": "Python 3"
    },
    "language_info": {
      "name": "python"
    }
  },
  "cells": [
    {
      "cell_type": "markdown",
      "metadata": {
        "id": "view-in-github",
        "colab_type": "text"
      },
      "source": [
        "<a href=\"https://colab.research.google.com/github/Anika-34/roc_and_auc_demo/blob/master/00_pytorch_fundamentals.ipynb\" target=\"_parent\"><img src=\"https://colab.research.google.com/assets/colab-badge.svg\" alt=\"Open In Colab\"/></a>"
      ]
    },
    {
      "cell_type": "code",
      "execution_count": 1,
      "metadata": {
        "colab": {
          "base_uri": "https://localhost:8080/"
        },
        "id": "A83syLH8tAyC",
        "outputId": "73fd71c4-49c9-4b46-842e-542cbf74bef7"
      },
      "outputs": [
        {
          "output_type": "stream",
          "name": "stdout",
          "text": [
            "2.4.0+cu121\n"
          ]
        }
      ],
      "source": [
        "import torch\n",
        "import numpy as np\n",
        "import pandas as pd\n",
        "import matplotlib.pyplot as plt\n",
        "print(torch.__version__)"
      ]
    },
    {
      "cell_type": "markdown",
      "source": [
        "# introduction to tensors\n",
        "\n",
        "### creating tensors"
      ],
      "metadata": {
        "id": "L51RD-A3uRFA"
      }
    },
    {
      "cell_type": "code",
      "source": [
        "# scalar\n",
        "scalar = torch.tensor(7)\n",
        "scalar"
      ],
      "metadata": {
        "colab": {
          "base_uri": "https://localhost:8080/"
        },
        "id": "uBbXH10rt_T4",
        "outputId": "2e3e2662-1588-4e3f-94ac-c175953c96ca"
      },
      "execution_count": 5,
      "outputs": [
        {
          "output_type": "execute_result",
          "data": {
            "text/plain": [
              "tensor(7)"
            ]
          },
          "metadata": {},
          "execution_count": 5
        }
      ]
    },
    {
      "cell_type": "markdown",
      "source": [
        "scalar.ndim   # scalar has no dimension"
      ],
      "metadata": {
        "id": "9cqMKFUwu685"
      }
    },
    {
      "cell_type": "code",
      "source": [
        "# tensor as python int\n",
        "scalar.item()"
      ],
      "metadata": {
        "colab": {
          "base_uri": "https://localhost:8080/"
        },
        "id": "-I5kXfjivDmd",
        "outputId": "ba2ea558-bf5a-4cf0-d21b-a21ce4421d31"
      },
      "execution_count": 7,
      "outputs": [
        {
          "output_type": "execute_result",
          "data": {
            "text/plain": [
              "7"
            ]
          },
          "metadata": {},
          "execution_count": 7
        }
      ]
    },
    {
      "cell_type": "code",
      "source": [
        "# vector\n",
        "vector = torch.tensor([7,7])\n",
        "vector"
      ],
      "metadata": {
        "colab": {
          "base_uri": "https://localhost:8080/"
        },
        "id": "Nd_XOa0PvKXw",
        "outputId": "8639a888-5923-468f-d811-c768e2648902"
      },
      "execution_count": 8,
      "outputs": [
        {
          "output_type": "execute_result",
          "data": {
            "text/plain": [
              "tensor([7, 7])"
            ]
          },
          "metadata": {},
          "execution_count": 8
        }
      ]
    },
    {
      "cell_type": "code",
      "source": [
        "vector.ndim"
      ],
      "metadata": {
        "colab": {
          "base_uri": "https://localhost:8080/"
        },
        "id": "KevjETUovX1w",
        "outputId": "88364f14-2ef4-4b11-ef5a-17325a5c34f9"
      },
      "execution_count": 9,
      "outputs": [
        {
          "output_type": "execute_result",
          "data": {
            "text/plain": [
              "1"
            ]
          },
          "metadata": {},
          "execution_count": 9
        }
      ]
    },
    {
      "cell_type": "code",
      "source": [
        "vector.shape"
      ],
      "metadata": {
        "colab": {
          "base_uri": "https://localhost:8080/"
        },
        "id": "Ec-AR3zyvbxg",
        "outputId": "fb7303a4-b31d-4245-ef2e-68c76a4ae88c"
      },
      "execution_count": 10,
      "outputs": [
        {
          "output_type": "execute_result",
          "data": {
            "text/plain": [
              "torch.Size([2])"
            ]
          },
          "metadata": {},
          "execution_count": 10
        }
      ]
    },
    {
      "cell_type": "code",
      "source": [
        "# MATRIX\n",
        "\n",
        "MATRIX = torch.tensor([[7, 8], [9, 10]])\n",
        "MATRIX"
      ],
      "metadata": {
        "colab": {
          "base_uri": "https://localhost:8080/"
        },
        "id": "S5IgTPz2vhJQ",
        "outputId": "97d5ce68-bed5-4f63-afc0-e481d0397a3e"
      },
      "execution_count": 12,
      "outputs": [
        {
          "output_type": "execute_result",
          "data": {
            "text/plain": [
              "tensor([[ 7,  8],\n",
              "        [ 9, 10]])"
            ]
          },
          "metadata": {},
          "execution_count": 12
        }
      ]
    },
    {
      "cell_type": "code",
      "source": [
        "MATRIX.ndim"
      ],
      "metadata": {
        "colab": {
          "base_uri": "https://localhost:8080/"
        },
        "id": "_MG-hrVBv2z4",
        "outputId": "8d3cb04c-f735-40f9-fbce-96c10d468c87"
      },
      "execution_count": 15,
      "outputs": [
        {
          "output_type": "execute_result",
          "data": {
            "text/plain": [
              "2"
            ]
          },
          "metadata": {},
          "execution_count": 15
        }
      ]
    },
    {
      "cell_type": "code",
      "source": [
        "MATRIX.shape\n"
      ],
      "metadata": {
        "colab": {
          "base_uri": "https://localhost:8080/"
        },
        "id": "noyXYkwRv_Nq",
        "outputId": "5775985e-a535-4a6b-dbcb-016071a925f9"
      },
      "execution_count": 16,
      "outputs": [
        {
          "output_type": "execute_result",
          "data": {
            "text/plain": [
              "torch.Size([2, 2])"
            ]
          },
          "metadata": {},
          "execution_count": 16
        }
      ]
    },
    {
      "cell_type": "code",
      "source": [
        "MATRIX[1]"
      ],
      "metadata": {
        "colab": {
          "base_uri": "https://localhost:8080/"
        },
        "id": "hvFsJZBGwFav",
        "outputId": "26a1108c-3049-48c9-fff3-59bb936f920c"
      },
      "execution_count": 17,
      "outputs": [
        {
          "output_type": "execute_result",
          "data": {
            "text/plain": [
              "tensor([ 9, 10])"
            ]
          },
          "metadata": {},
          "execution_count": 17
        }
      ]
    },
    {
      "cell_type": "code",
      "source": [
        "# TENSOR\n",
        "\n",
        "TENSOR = torch.tensor([[[1, 2, 3],\n",
        "                        [3, 6, 9],\n",
        "                        [2, 4, 5]]])\n",
        "TENSOR"
      ],
      "metadata": {
        "colab": {
          "base_uri": "https://localhost:8080/"
        },
        "id": "h43OLyoIwLX4",
        "outputId": "df55d1a3-3eff-489f-dfa4-b9bc80eb3dd7"
      },
      "execution_count": 18,
      "outputs": [
        {
          "output_type": "execute_result",
          "data": {
            "text/plain": [
              "tensor([[[1, 2, 3],\n",
              "         [3, 6, 9],\n",
              "         [2, 4, 5]]])"
            ]
          },
          "metadata": {},
          "execution_count": 18
        }
      ]
    },
    {
      "cell_type": "code",
      "source": [
        "TENSOR.ndim"
      ],
      "metadata": {
        "colab": {
          "base_uri": "https://localhost:8080/"
        },
        "id": "XI0VHX_TwaqA",
        "outputId": "824b3514-01e4-4163-8cb0-c296be5601e6"
      },
      "execution_count": 19,
      "outputs": [
        {
          "output_type": "execute_result",
          "data": {
            "text/plain": [
              "3"
            ]
          },
          "metadata": {},
          "execution_count": 19
        }
      ]
    },
    {
      "cell_type": "code",
      "source": [
        "TENSOR.shape"
      ],
      "metadata": {
        "colab": {
          "base_uri": "https://localhost:8080/"
        },
        "id": "L26ldlqhweqx",
        "outputId": "a8bcc4b9-2129-4260-971d-8f6846dae5f6"
      },
      "execution_count": 20,
      "outputs": [
        {
          "output_type": "execute_result",
          "data": {
            "text/plain": [
              "torch.Size([1, 3, 3])"
            ]
          },
          "metadata": {},
          "execution_count": 20
        }
      ]
    },
    {
      "cell_type": "code",
      "source": [
        "TENSOR[0][1][1]"
      ],
      "metadata": {
        "colab": {
          "base_uri": "https://localhost:8080/"
        },
        "id": "b80SyLoiwoBP",
        "outputId": "50d6ec4d-4ce3-40e6-ed5e-d776dbb2b1f6"
      },
      "execution_count": 24,
      "outputs": [
        {
          "output_type": "execute_result",
          "data": {
            "text/plain": [
              "tensor(6)"
            ]
          },
          "metadata": {},
          "execution_count": 24
        }
      ]
    },
    {
      "cell_type": "markdown",
      "source": [
        "### random tensors"
      ],
      "metadata": {
        "id": "ZQ7sap8Hxmtq"
      }
    },
    {
      "cell_type": "code",
      "source": [
        "# create a random tensor of size (3, 4)\n",
        "\n",
        "random_tensor = torch.rand(3, 4)\n",
        "# random_tensor= torch.rand(1, 3, 4)\n",
        "random_tensor"
      ],
      "metadata": {
        "colab": {
          "base_uri": "https://localhost:8080/"
        },
        "id": "JJTTrK4txxQ4",
        "outputId": "bb6548ff-e8ad-4fb9-fdd5-f3044396fe44"
      },
      "execution_count": 27,
      "outputs": [
        {
          "output_type": "execute_result",
          "data": {
            "text/plain": [
              "tensor([[0.9028, 0.8210, 0.0387, 0.7675],\n",
              "        [0.6778, 0.8311, 0.2140, 0.8268],\n",
              "        [0.2133, 0.0055, 0.3371, 0.6639]])"
            ]
          },
          "metadata": {},
          "execution_count": 27
        }
      ]
    },
    {
      "cell_type": "code",
      "source": [
        "# random tensor with simillar shape to an image tensor\n",
        "# random_image_size_tensor = torch.rand(size = (224, 224, 3)) # height, width, colour channel\n",
        "random_image_size_tensor = torch.rand(224, 224, 3)\n",
        "random_image_size_tensor.shape, random_image_size_tensor.ndim"
      ],
      "metadata": {
        "colab": {
          "base_uri": "https://localhost:8080/"
        },
        "id": "AadHw-00yL9J",
        "outputId": "0e3801d7-b5aa-43b4-feb9-a482e0284c19"
      },
      "execution_count": 31,
      "outputs": [
        {
          "output_type": "execute_result",
          "data": {
            "text/plain": [
              "(torch.Size([224, 224, 3]), 3)"
            ]
          },
          "metadata": {},
          "execution_count": 31
        }
      ]
    },
    {
      "cell_type": "markdown",
      "source": [
        "### zeros and ones"
      ],
      "metadata": {
        "id": "gy1GisM8zi5Y"
      }
    },
    {
      "cell_type": "code",
      "source": [
        "# create a tensor of all zeros\n",
        "zero =torch.zeros(size=(3, 4))\n",
        "one = torch.ones(size=(3, 4))\n",
        "zero, one, one.dtype"
      ],
      "metadata": {
        "colab": {
          "base_uri": "https://localhost:8080/"
        },
        "id": "ITkixYoSzWKp",
        "outputId": "650deda8-b464-403c-ebc2-84e86d342b92"
      },
      "execution_count": 34,
      "outputs": [
        {
          "output_type": "execute_result",
          "data": {
            "text/plain": [
              "(tensor([[0., 0., 0., 0.],\n",
              "         [0., 0., 0., 0.],\n",
              "         [0., 0., 0., 0.]]),\n",
              " tensor([[1., 1., 1., 1.],\n",
              "         [1., 1., 1., 1.],\n",
              "         [1., 1., 1., 1.]]),\n",
              " torch.float32)"
            ]
          },
          "metadata": {},
          "execution_count": 34
        }
      ]
    },
    {
      "cell_type": "code",
      "source": [
        "torch.zeros([2, 4], dtype=torch.int32)\n",
        "# x = torch.tensor([[1, 2, 3], [4, 5, 6]])\n",
        "# print(x[1][2])\n",
        "\n",
        "T = torch.tensor([[1]])\n",
        "print(T, T.shape)\n",
        "T.item() # returns a python number"
      ],
      "metadata": {
        "colab": {
          "base_uri": "https://localhost:8080/"
        },
        "id": "1PBawCtGDbmE",
        "outputId": "63187d91-db83-4199-9e57-c26db9c6e59a"
      },
      "execution_count": 197,
      "outputs": [
        {
          "output_type": "stream",
          "name": "stdout",
          "text": [
            "tensor([[1]]) torch.Size([1, 1])\n"
          ]
        },
        {
          "output_type": "execute_result",
          "data": {
            "text/plain": [
              "1"
            ]
          },
          "metadata": {},
          "execution_count": 197
        }
      ]
    },
    {
      "cell_type": "markdown",
      "source": [
        "### creatign a range of tensors and tensors-like"
      ],
      "metadata": {
        "id": "mQDCBEM_0ZGJ"
      }
    },
    {
      "cell_type": "code",
      "source": [
        "# torch.range()  -> depricated\n",
        "\n",
        "# torch.range(1, 10)\n",
        "one_to_ten = torch.arange(start=1, end =11, step = 2)\n",
        "one_to_ten"
      ],
      "metadata": {
        "colab": {
          "base_uri": "https://localhost:8080/"
        },
        "id": "NtB4zDuE0YPZ",
        "outputId": "f4958423-92c1-460a-c6c8-627583bf96bf"
      },
      "execution_count": 41,
      "outputs": [
        {
          "output_type": "execute_result",
          "data": {
            "text/plain": [
              "tensor([1, 3, 5, 7, 9])"
            ]
          },
          "metadata": {},
          "execution_count": 41
        }
      ]
    },
    {
      "cell_type": "code",
      "source": [
        "# creatin gtensors like\n",
        "ten_zeros = torch.zeros_like(input =one_to_ten)\n",
        "ten_zeros"
      ],
      "metadata": {
        "colab": {
          "base_uri": "https://localhost:8080/"
        },
        "id": "JykCIOVC0yX6",
        "outputId": "abfa4704-97ff-4aae-fff8-35b84cbeb073"
      },
      "execution_count": 44,
      "outputs": [
        {
          "output_type": "execute_result",
          "data": {
            "text/plain": [
              "tensor([0, 0, 0, 0, 0])"
            ]
          },
          "metadata": {},
          "execution_count": 44
        }
      ]
    },
    {
      "cell_type": "markdown",
      "source": [
        "### tensor datatypes"
      ],
      "metadata": {
        "id": "kdFjaEAa1mUT"
      }
    },
    {
      "cell_type": "code",
      "source": [
        "# float 32 tensor\n",
        "float_32_tensor = torch.tensor([3.0, 6.0, 9.0],\n",
        "                               dtype = None, # what data type is tensor\n",
        "                               device = None, # what device is tensor on\n",
        "                               requires_grad=False) # wether or not to track gradient with this tensor operations\n",
        "float_32_tensor"
      ],
      "metadata": {
        "colab": {
          "base_uri": "https://localhost:8080/"
        },
        "id": "ixMKOH4V00Gq",
        "outputId": "7f328b7b-9b34-4d46-ead9-33fc8a9b53fa"
      },
      "execution_count": 51,
      "outputs": [
        {
          "output_type": "execute_result",
          "data": {
            "text/plain": [
              "tensor([3., 6., 9.])"
            ]
          },
          "metadata": {},
          "execution_count": 51
        }
      ]
    },
    {
      "cell_type": "code",
      "source": [
        "float_32_tensor.dtype  # None dileo float32 ashe"
      ],
      "metadata": {
        "colab": {
          "base_uri": "https://localhost:8080/"
        },
        "id": "ybih5kos0z8Z",
        "outputId": "16489eed-eecf-4cbe-e980-4c1d1d0824c9"
      },
      "execution_count": 50,
      "outputs": [
        {
          "output_type": "execute_result",
          "data": {
            "text/plain": [
              "torch.float32"
            ]
          },
          "metadata": {},
          "execution_count": 50
        }
      ]
    },
    {
      "cell_type": "code",
      "source": [
        "float_16_tensor= float_32_tensor.type(torch.float16)\n",
        "float_16_tensor"
      ],
      "metadata": {
        "colab": {
          "base_uri": "https://localhost:8080/"
        },
        "id": "tRWy7RMT1e0b",
        "outputId": "c1530e2e-da1a-45f2-bb27-371377278c0d"
      },
      "execution_count": 52,
      "outputs": [
        {
          "output_type": "execute_result",
          "data": {
            "text/plain": [
              "tensor([3., 6., 9.], dtype=torch.float16)"
            ]
          },
          "metadata": {},
          "execution_count": 52
        }
      ]
    },
    {
      "cell_type": "code",
      "source": [
        "float_16_tensor * float_32_tensor"
      ],
      "metadata": {
        "colab": {
          "base_uri": "https://localhost:8080/"
        },
        "id": "9vZJfVaU3rv6",
        "outputId": "318c0c10-8cd3-427e-a11c-f8faa6c0cb88"
      },
      "execution_count": 53,
      "outputs": [
        {
          "output_type": "execute_result",
          "data": {
            "text/plain": [
              "tensor([ 9., 36., 81.])"
            ]
          },
          "metadata": {},
          "execution_count": 53
        }
      ]
    },
    {
      "cell_type": "code",
      "source": [
        "int_32_tensor=  torch.tensor([3, 6, 9], dtype = torch.int32)\n",
        "# dtype = torch.int64, torch.long same kaaj kore\n",
        "int_32_tensor, float_32_tensor* int_32_tensor"
      ],
      "metadata": {
        "colab": {
          "base_uri": "https://localhost:8080/"
        },
        "id": "C7vjJvbn3-JJ",
        "outputId": "1e5ea159-f8ea-4ea8-ac78-c8710c4c6ca7"
      },
      "execution_count": 56,
      "outputs": [
        {
          "output_type": "execute_result",
          "data": {
            "text/plain": [
              "(tensor([3, 6, 9], dtype=torch.int32), tensor([ 9., 36., 81.]))"
            ]
          },
          "metadata": {},
          "execution_count": 56
        }
      ]
    },
    {
      "cell_type": "markdown",
      "source": [
        "### getting info from tensors\n",
        "1. `tensor.dtype`\n",
        "2. `tensor.shape`\n",
        "3. `tensor.device`"
      ],
      "metadata": {
        "id": "sm7mUb344rnL"
      }
    },
    {
      "cell_type": "code",
      "source": [
        "some_tensor = torch.rand(3, 4)\n",
        "some_tensor"
      ],
      "metadata": {
        "colab": {
          "base_uri": "https://localhost:8080/"
        },
        "id": "ngszub6-4O20",
        "outputId": "3471238b-65a5-408e-bb61-0483f9a61bfc"
      },
      "execution_count": 57,
      "outputs": [
        {
          "output_type": "execute_result",
          "data": {
            "text/plain": [
              "tensor([[0.9669, 0.5673, 0.3242, 0.4000],\n",
              "        [0.6258, 0.7299, 0.4972, 0.3148],\n",
              "        [0.1827, 0.8435, 0.4588, 0.2210]])"
            ]
          },
          "metadata": {},
          "execution_count": 57
        }
      ]
    },
    {
      "cell_type": "code",
      "source": [
        "print(some_tensor)\n",
        "print(f\"datatype of some tensor: {some_tensor.dtype}\")\n",
        "print(f\"shape of some tensor: {some_tensor.shape}, {some_tensor.size()}\")\n",
        "print(f\"device: {some_tensor.device}\")"
      ],
      "metadata": {
        "colab": {
          "base_uri": "https://localhost:8080/"
        },
        "id": "OaALvt4m5Gza",
        "outputId": "26cdf816-e812-40f1-c139-4e32494111a8"
      },
      "execution_count": 59,
      "outputs": [
        {
          "output_type": "stream",
          "name": "stdout",
          "text": [
            "tensor([[0.9669, 0.5673, 0.3242, 0.4000],\n",
            "        [0.6258, 0.7299, 0.4972, 0.3148],\n",
            "        [0.1827, 0.8435, 0.4588, 0.2210]])\n",
            "datatype of some tensor: torch.float32\n",
            "shape of some tensor: torch.Size([3, 4]), torch.Size([3, 4])\n",
            "device: cpu\n"
          ]
        }
      ]
    },
    {
      "cell_type": "markdown",
      "source": [
        "### manipulating tensors\n",
        "\n",
        "Tensor operations\n",
        "* Addition\n",
        "* Subtraction\n",
        "* Multiplication\n",
        "* division\n",
        "* matrix multiplication -> \"@\", matmul, mm"
      ],
      "metadata": {
        "id": "yEsL7wtp6YfU"
      }
    },
    {
      "cell_type": "code",
      "source": [
        "# create a tensor\n",
        "tensor = torch.tensor([3, 6, 9])\n",
        "print(tensor + 10)\n",
        "print(tensor * 10)\n",
        "print(tensor / 3)\n",
        "print(tensor - 1)\n",
        "print(torch.mul(tensor, 10))\n",
        "print(\"tensor: \", tensor)"
      ],
      "metadata": {
        "colab": {
          "base_uri": "https://localhost:8080/"
        },
        "id": "-0EWkC8P5rXW",
        "outputId": "cdce831f-2036-49cb-a90d-09f96f1766b2"
      },
      "execution_count": 83,
      "outputs": [
        {
          "output_type": "stream",
          "name": "stdout",
          "text": [
            "tensor([13, 16, 19])\n",
            "tensor([30, 60, 90])\n",
            "tensor([1., 2., 3.])\n",
            "tensor([2, 5, 8])\n",
            "tensor([30, 60, 90])\n",
            "tensor:  tensor([3, 6, 9])\n"
          ]
        }
      ]
    },
    {
      "cell_type": "markdown",
      "source": [
        "### matrix multiplication\n",
        "\n",
        "Two main types of multiplication in neural network and deep learning:\n",
        "1. element wise multiplication\n",
        "2. matrix multiplication (dot product)"
      ],
      "metadata": {
        "id": "HlEVL4RFKinQ"
      }
    },
    {
      "cell_type": "code",
      "source": [
        "# element wise multiplication\n",
        "\n",
        "print(tensor, \"*\", tensor,  \"=\", tensor* tensor)"
      ],
      "metadata": {
        "colab": {
          "base_uri": "https://localhost:8080/"
        },
        "id": "Z0K1ZHN_6Rp7",
        "outputId": "49c8cece-34bf-49d1-9e8c-ad52c5d41e6e"
      },
      "execution_count": 85,
      "outputs": [
        {
          "output_type": "stream",
          "name": "stdout",
          "text": [
            "tensor([3, 6, 9]) * tensor([3, 6, 9]) = tensor([ 9, 36, 81])\n"
          ]
        }
      ]
    },
    {
      "cell_type": "code",
      "source": [
        "# matrix multiplication\n",
        "%%time\n",
        "\n",
        "print(torch.matmul(tensor, tensor))\n",
        "print(tensor @ tensor)"
      ],
      "metadata": {
        "colab": {
          "base_uri": "https://localhost:8080/"
        },
        "id": "dJq_knlM6Rlm",
        "outputId": "29fbc8e7-c3a0-49aa-f542-287031438c19"
      },
      "execution_count": 92,
      "outputs": [
        {
          "output_type": "stream",
          "name": "stdout",
          "text": [
            "tensor(126)\n",
            "tensor(126)\n",
            "CPU times: user 3.17 ms, sys: 0 ns, total: 3.17 ms\n",
            "Wall time: 3.18 ms\n"
          ]
        }
      ]
    },
    {
      "cell_type": "code",
      "source": [
        "# by hand\n",
        "\n",
        "# print(len(tensor))\n",
        "%%time\n",
        "\n",
        "value = 0\n",
        "for i in range(len(tensor)):\n",
        "    value += tensor[i] * tensor[i]\n",
        "print(value)"
      ],
      "metadata": {
        "colab": {
          "base_uri": "https://localhost:8080/"
        },
        "id": "KlATm5UTL4sx",
        "outputId": "14949dbe-6077-4fb0-f5b7-5703fc856b34"
      },
      "execution_count": 90,
      "outputs": [
        {
          "output_type": "stream",
          "name": "stdout",
          "text": [
            "tensor(126)\n",
            "CPU times: user 2.69 ms, sys: 23 µs, total: 2.71 ms\n",
            "Wall time: 2.54 ms\n"
          ]
        }
      ]
    },
    {
      "cell_type": "code",
      "source": [
        "print(torch.matmul(torch.rand(2, 3), torch.rand(3, 1)))\n",
        "# print(torch.matmul(torch.rand(2, 3), torch.rand(2, 1))) # this wont work"
      ],
      "metadata": {
        "colab": {
          "base_uri": "https://localhost:8080/"
        },
        "id": "yL5jEcArUNiU",
        "outputId": "7b71dfe0-918a-4cc2-ec0f-172aa4d18719"
      },
      "execution_count": 95,
      "outputs": [
        {
          "output_type": "stream",
          "name": "stdout",
          "text": [
            "tensor([[0.3755],\n",
            "        [0.1917]])\n"
          ]
        }
      ]
    },
    {
      "cell_type": "markdown",
      "source": [
        "Shape errors"
      ],
      "metadata": {
        "id": "hIcBwYU-UJ3q"
      }
    },
    {
      "cell_type": "code",
      "source": [
        "# shapes for mat mul\n",
        "\n",
        "tensor_A = torch.tensor([\n",
        "    [1, 2],\n",
        "    [3, 4],\n",
        "    [5, 6]\n",
        "])\n",
        "\n",
        "tensor_B = torch.tensor([\n",
        "    [7, 10],\n",
        "    [8, 11],\n",
        "    [9, 12]\n",
        "])\n",
        "\n",
        "\n",
        "# torch.mm(tensor_A, tensor_B) # dimension matcch kore na\n",
        "\n",
        "print(tensor_A.shape, tensor_B.shape)\n",
        "\n",
        "\n"
      ],
      "metadata": {
        "colab": {
          "base_uri": "https://localhost:8080/"
        },
        "id": "YK1mpqbiVGi5",
        "outputId": "52c9c620-2cf7-4706-dede-78dbf9ed87f4"
      },
      "execution_count": 100,
      "outputs": [
        {
          "output_type": "stream",
          "name": "stdout",
          "text": [
            "torch.Size([3, 2]) torch.Size([3, 2])\n"
          ]
        }
      ]
    },
    {
      "cell_type": "markdown",
      "source": [
        "to fix this issue use **transpose** \".T\""
      ],
      "metadata": {
        "id": "jmoGOyh7WY2q"
      }
    },
    {
      "cell_type": "code",
      "source": [
        "tensor_B.T, tensor_B.T.shape"
      ],
      "metadata": {
        "colab": {
          "base_uri": "https://localhost:8080/"
        },
        "id": "3ZW4_MwpWZtT",
        "outputId": "4df66753-a814-4e5c-e637-c1a480953534"
      },
      "execution_count": 104,
      "outputs": [
        {
          "output_type": "execute_result",
          "data": {
            "text/plain": [
              "(tensor([[ 7,  8,  9],\n",
              "         [10, 11, 12]]),\n",
              " torch.Size([2, 3]))"
            ]
          },
          "metadata": {},
          "execution_count": 104
        }
      ]
    },
    {
      "cell_type": "code",
      "source": [
        "torch.mm(tensor_A, tensor_B.T)"
      ],
      "metadata": {
        "colab": {
          "base_uri": "https://localhost:8080/"
        },
        "id": "AG4vLzYlWoKy",
        "outputId": "b668ef37-9ad0-4f2f-ce4c-a4ae055e01ed"
      },
      "execution_count": 106,
      "outputs": [
        {
          "output_type": "execute_result",
          "data": {
            "text/plain": [
              "tensor([[ 27,  30,  33],\n",
              "        [ 61,  68,  75],\n",
              "        [ 95, 106, 117]])"
            ]
          },
          "metadata": {},
          "execution_count": 106
        }
      ]
    },
    {
      "cell_type": "markdown",
      "source": [
        "### Finding min, max, mean, sum, etc...(tensor aggregation)"
      ],
      "metadata": {
        "id": "TyD-D884XkFK"
      }
    },
    {
      "cell_type": "code",
      "source": [
        "x = torch.arange(1, 100, 10)\n",
        "print(x, x.dtype) # int64 is long so mean wont work we have to cast it\n",
        "print(f\"min: {torch.min(x)} or {x.min()}, max: {torch.max(x)} or {x.max()} \")\n",
        "# print(torch.mean(x)) # datatype error\n",
        "# RuntimeError: mean(): could not infer output dtype.\n",
        "# Input dtype must be either a floating point or complex dtype.\n",
        "# Got: Long\n",
        "\n",
        "print(torch.mean(x.type(torch.float32)) , \"or\", x.type(torch.float32).mean())\n",
        "\n",
        "# sum\n",
        "print(x.sum())"
      ],
      "metadata": {
        "colab": {
          "base_uri": "https://localhost:8080/"
        },
        "id": "heeFItgFXqbR",
        "outputId": "eaf8244f-a721-4e72-f751-d9d9fb02b597"
      },
      "execution_count": 122,
      "outputs": [
        {
          "output_type": "stream",
          "name": "stdout",
          "text": [
            "tensor([ 1, 11, 21, 31, 41, 51, 61, 71, 81, 91]) torch.int64\n",
            "min: 1 or 1, max: 91 or 91 \n",
            "tensor(46.) or tensor(46.)\n",
            "tensor(460)\n"
          ]
        }
      ]
    },
    {
      "cell_type": "markdown",
      "source": [
        "### finding the positional min, max"
      ],
      "metadata": {
        "id": "v61Uf_LAaW-F"
      }
    },
    {
      "cell_type": "code",
      "source": [
        "# find the position in tensor that has the minimum value in tensor with argmin()\n",
        "print(x.argmin())\n",
        "print(x[0])\n",
        "\n",
        "\n",
        "# max\n",
        "print(x.argmax())\n",
        "print(x[9])"
      ],
      "metadata": {
        "colab": {
          "base_uri": "https://localhost:8080/"
        },
        "id": "pm6fg56iaL_A",
        "outputId": "8064a87b-1d37-41e0-c95a-4006c5eecbbe"
      },
      "execution_count": 123,
      "outputs": [
        {
          "output_type": "stream",
          "name": "stdout",
          "text": [
            "tensor(0)\n",
            "tensor(1)\n",
            "tensor(9)\n",
            "tensor(91)\n"
          ]
        }
      ]
    },
    {
      "cell_type": "markdown",
      "source": [
        "### Reshaping, stacking, sqeezing, unsqeezing\n",
        "\n",
        "* reshaping -> reshapes an input tensor to a defined shape\n",
        "* View -> Return a view of an input tensorof a certain shape but keep the same memory as the original tensor\n",
        "* stacking -> combine multiple tensor on top of each other (vstack) or side-by-side (hstack)\n",
        "* sqeezing -> add a `1` dimension from a tensor\n",
        "* Unsqeeze -> add a `1` diemnsion to a target tensor\n",
        "* Permute -> Return a view the input with diemsions permuted in a ertain way"
      ],
      "metadata": {
        "id": "vh468AdfbSzt"
      }
    },
    {
      "cell_type": "code",
      "source": [
        "# Create a tensor\n",
        "import torch\n",
        "x= torch.arange(1., 10.)\n",
        "x , x.shape"
      ],
      "metadata": {
        "colab": {
          "base_uri": "https://localhost:8080/"
        },
        "id": "gdzESpnRbXm0",
        "outputId": "d12fad83-6550-477b-8b35-57ceba23e2a6"
      },
      "execution_count": 157,
      "outputs": [
        {
          "output_type": "execute_result",
          "data": {
            "text/plain": [
              "(tensor([1., 2., 3., 4., 5., 6., 7., 8., 9.]), torch.Size([9]))"
            ]
          },
          "metadata": {},
          "execution_count": 157
        }
      ]
    },
    {
      "cell_type": "code",
      "source": [
        "# Add an extra dimesion\n",
        "# x_reshaped = x.reshape(1, 7) # wont work as tensor size 9 not 7\n",
        "# x_reshaped = x.reshape(1, 9)\n",
        "# x_reshaped = x.reshape(2, 9) # because we are trying to double the amount of elemnts without having double the amount of elements\n",
        "x_reshaped = x.reshape(9, 1)\n",
        "# python is zero indexed so we add a extra dimension to the first dimension\n",
        "x_reshaped, x_reshaped.shape\n"
      ],
      "metadata": {
        "colab": {
          "base_uri": "https://localhost:8080/"
        },
        "id": "dFCJjsxLdMt0",
        "outputId": "81799b47-7b8d-43a6-f6ac-f606c117543b"
      },
      "execution_count": 158,
      "outputs": [
        {
          "output_type": "execute_result",
          "data": {
            "text/plain": [
              "(tensor([[1.],\n",
              "         [2.],\n",
              "         [3.],\n",
              "         [4.],\n",
              "         [5.],\n",
              "         [6.],\n",
              "         [7.],\n",
              "         [8.],\n",
              "         [9.]]),\n",
              " torch.Size([9, 1]))"
            ]
          },
          "metadata": {},
          "execution_count": 158
        }
      ]
    },
    {
      "cell_type": "code",
      "source": [
        "X = torch.arange(1., 11.)\n",
        "X, X.size()"
      ],
      "metadata": {
        "colab": {
          "base_uri": "https://localhost:8080/"
        },
        "id": "7NIJnAfEfQ5c",
        "outputId": "4e596345-7a85-49e2-9683-21798fc6546b"
      },
      "execution_count": 159,
      "outputs": [
        {
          "output_type": "execute_result",
          "data": {
            "text/plain": [
              "(tensor([ 1.,  2.,  3.,  4.,  5.,  6.,  7.,  8.,  9., 10.]), torch.Size([10]))"
            ]
          },
          "metadata": {},
          "execution_count": 159
        }
      ]
    },
    {
      "cell_type": "code",
      "source": [
        "X_reshaped = X.reshape(2, 5) # this is compatible because 2*5 = 10\n",
        "X_reshaped, X_reshaped.size()"
      ],
      "metadata": {
        "colab": {
          "base_uri": "https://localhost:8080/"
        },
        "id": "sr0209B9fX0E",
        "outputId": "ef7d6a34-333d-4ad6-cd36-534cd4a2112d"
      },
      "execution_count": 160,
      "outputs": [
        {
          "output_type": "execute_result",
          "data": {
            "text/plain": [
              "(tensor([[ 1.,  2.,  3.,  4.,  5.],\n",
              "         [ 6.,  7.,  8.,  9., 10.]]),\n",
              " torch.Size([2, 5]))"
            ]
          },
          "metadata": {},
          "execution_count": 160
        }
      ]
    },
    {
      "cell_type": "markdown",
      "source": [
        "changing `z` changes `x` (because a and z share the same *memory*)"
      ],
      "metadata": {
        "id": "6w5z15_1gEsU"
      }
    },
    {
      "cell_type": "code",
      "source": [
        "# Change the view\n",
        "z = x.view(1, 9)\n",
        "z, z.shape"
      ],
      "metadata": {
        "colab": {
          "base_uri": "https://localhost:8080/"
        },
        "id": "WFPXZHgWf4_D",
        "outputId": "69b71023-2531-4539-db95-0f1879504e75"
      },
      "execution_count": 161,
      "outputs": [
        {
          "output_type": "execute_result",
          "data": {
            "text/plain": [
              "(tensor([[1., 2., 3., 4., 5., 6., 7., 8., 9.]]), torch.Size([1, 9]))"
            ]
          },
          "metadata": {},
          "execution_count": 161
        }
      ]
    },
    {
      "cell_type": "code",
      "source": [
        "print(z[:, 3])\n",
        "z[:, 3] = 0\n",
        "print(z, x)"
      ],
      "metadata": {
        "colab": {
          "base_uri": "https://localhost:8080/"
        },
        "id": "iJcbqMGMglXr",
        "outputId": "93c1d9ca-ff41-4f2e-eabb-0934e0442fd0"
      },
      "execution_count": 162,
      "outputs": [
        {
          "output_type": "stream",
          "name": "stdout",
          "text": [
            "tensor([4.])\n",
            "tensor([[1., 2., 3., 0., 5., 6., 7., 8., 9.]]) tensor([1., 2., 3., 0., 5., 6., 7., 8., 9.])\n"
          ]
        }
      ]
    },
    {
      "cell_type": "code",
      "source": [
        "# Stack tensors on top of each other\n",
        "\n",
        "\n",
        "# print(x[0])\n",
        "x_stacked = torch.stack([x, x, x])\n",
        "print(x_stacked)\n",
        "\n",
        "x_stacked_2 = torch.stack([x, x, x], dim = 1)\n",
        "# dim = 1 -> zeroth index is the zeroth tensor ans so on\n",
        "print(x_stacked_2)"
      ],
      "metadata": {
        "colab": {
          "base_uri": "https://localhost:8080/"
        },
        "id": "M5TijY6Zg69X",
        "outputId": "e9d097ea-2845-4365-d061-5349c1b4e87a"
      },
      "execution_count": 165,
      "outputs": [
        {
          "output_type": "stream",
          "name": "stdout",
          "text": [
            "tensor([[1., 2., 3., 0., 5., 6., 7., 8., 9.],\n",
            "        [1., 2., 3., 0., 5., 6., 7., 8., 9.],\n",
            "        [1., 2., 3., 0., 5., 6., 7., 8., 9.]])\n",
            "tensor([[1., 1., 1.],\n",
            "        [2., 2., 2.],\n",
            "        [3., 3., 3.],\n",
            "        [0., 0., 0.],\n",
            "        [5., 5., 5.],\n",
            "        [6., 6., 6.],\n",
            "        [7., 7., 7.],\n",
            "        [8., 8., 8.],\n",
            "        [9., 9., 9.]])\n"
          ]
        }
      ]
    },
    {
      "cell_type": "markdown",
      "source": [
        "```\n",
        "` torch.squeez(tensor)\n",
        "```\n",
        "\n",
        "**squeez** : removes all single dimension from a target **tensor**"
      ],
      "metadata": {
        "id": "l6hm74VRk4cl"
      }
    },
    {
      "cell_type": "code",
      "source": [
        "# squeez\n",
        "\n",
        "print(f\"x_reshaped: {x_reshaped}, size: {x_reshaped.shape}\")\n",
        "squeezed_x = torch.squeeze(x_reshaped)\n",
        "\n",
        "print(f\"squeezed: {squeezed_x}, size: {squeezed_x.shape}\")\n"
      ],
      "metadata": {
        "colab": {
          "base_uri": "https://localhost:8080/"
        },
        "id": "0EwM5x2mjGXI",
        "outputId": "e5aaaecd-18f4-4cca-e886-29e1e8b3347a"
      },
      "execution_count": 172,
      "outputs": [
        {
          "output_type": "stream",
          "name": "stdout",
          "text": [
            "x_reshaped: tensor([[1.],\n",
            "        [2.],\n",
            "        [3.],\n",
            "        [0.],\n",
            "        [5.],\n",
            "        [6.],\n",
            "        [7.],\n",
            "        [8.],\n",
            "        [9.]]), size: torch.Size([9, 1])\n",
            "squeezed: tensor([1., 2., 3., 0., 5., 6., 7., 8., 9.]), size: torch.Size([9])\n"
          ]
        }
      ]
    },
    {
      "cell_type": "markdown",
      "source": [
        "**\n",
        "```\n",
        "torch.unsqueez(tensor, dim)\n",
        "```\n",
        "**unsqueez**: removes a single dimension to a target tensor at a specific dimension"
      ],
      "metadata": {
        "id": "lXy9BGOQmvmU"
      }
    },
    {
      "cell_type": "code",
      "source": [
        "# unsqueez\n",
        "\n",
        "print(f\"x_reshaped:\\n {x_reshaped},\\n size: {x_reshaped.shape}\")\n",
        "\n",
        "# unsqueezed_x = torch.unsqueeze(x_reshaped, dim = 0)\n",
        "unsqueezed_x = torch.unsqueeze(x_reshaped, dim = 1)\n",
        "\n",
        "print(f\"unsqueezed:\\n {unsqueezed_x},\\n size: {unsqueezed_x.shape}\")\n"
      ],
      "metadata": {
        "colab": {
          "base_uri": "https://localhost:8080/"
        },
        "id": "K-TWABL2mD68",
        "outputId": "eebfc0b7-82a6-43f8-c9bf-abe3cf814d16"
      },
      "execution_count": 176,
      "outputs": [
        {
          "output_type": "stream",
          "name": "stdout",
          "text": [
            "x_reshaped:\n",
            " tensor([[1.],\n",
            "        [2.],\n",
            "        [3.],\n",
            "        [0.],\n",
            "        [5.],\n",
            "        [6.],\n",
            "        [7.],\n",
            "        [8.],\n",
            "        [9.]]),\n",
            " size: torch.Size([9, 1])\n",
            "unsqueezed:\n",
            " tensor([[[1.]],\n",
            "\n",
            "        [[2.]],\n",
            "\n",
            "        [[3.]],\n",
            "\n",
            "        [[0.]],\n",
            "\n",
            "        [[5.]],\n",
            "\n",
            "        [[6.]],\n",
            "\n",
            "        [[7.]],\n",
            "\n",
            "        [[8.]],\n",
            "\n",
            "        [[9.]]]),\n",
            " size: torch.Size([9, 1, 1])\n"
          ]
        }
      ]
    },
    {
      "cell_type": "markdown",
      "source": [
        "```\n",
        "torch.permute(tensor, dims)\n",
        ">>> x= torch.randn(2, 3 ,5)\n",
        ">>> x.size()\n",
        "# torch.Size([2, 3, 5])\n",
        ">>> torch.permute(x, (2, 0, 1)).size()\n",
        "# torch.Size([5, 2, 3])\n",
        "\n",
        "\n",
        "# the second dimension becomes first, zeroth becomes second, first becomes second\n",
        "```\n",
        "* **permute**: rearranges the dimension of a target tensor in a specified order\n",
        "\n",
        "* permute is in the same memory so changing original also changes the permuted tensor"
      ],
      "metadata": {
        "id": "GQQepZLsnq62"
      }
    },
    {
      "cell_type": "code",
      "source": [
        "x_original = torch.rand(size=(5, 4, 3))\n",
        "\n",
        "x_permuted = x_original.permute(2, 0, 1)  # 3 224 224\n",
        "\n",
        "print(f\"size: {x_original.shape}\")\n",
        "print(f\"size: {x_permuted.shape}\")"
      ],
      "metadata": {
        "colab": {
          "base_uri": "https://localhost:8080/"
        },
        "id": "pyNxZzXeoJSV",
        "outputId": "75915526-34e9-4492-ab0b-b2ff3904e8c6"
      },
      "execution_count": 182,
      "outputs": [
        {
          "output_type": "stream",
          "name": "stdout",
          "text": [
            "size: torch.Size([5, 4, 3])\n",
            "size: torch.Size([3, 5, 4])\n"
          ]
        }
      ]
    },
    {
      "cell_type": "code",
      "source": [
        "x_original"
      ],
      "metadata": {
        "colab": {
          "base_uri": "https://localhost:8080/"
        },
        "id": "wOw7hti5pSQC",
        "outputId": "8b485d1d-6423-4991-f9b6-eef2772c6409"
      },
      "execution_count": 184,
      "outputs": [
        {
          "output_type": "execute_result",
          "data": {
            "text/plain": [
              "tensor([[[0.5614, 0.9994, 0.5567],\n",
              "         [0.1813, 0.1749, 0.7606],\n",
              "         [0.5877, 0.0304, 0.6445],\n",
              "         [0.6472, 0.1246, 0.0339]],\n",
              "\n",
              "        [[0.2979, 0.2669, 0.1865],\n",
              "         [0.5829, 0.9185, 0.2534],\n",
              "         [0.6329, 0.5439, 0.2000],\n",
              "         [0.1618, 0.9130, 0.1913]],\n",
              "\n",
              "        [[0.8346, 0.0532, 0.8170],\n",
              "         [0.8522, 0.8996, 0.5779],\n",
              "         [0.9029, 0.2250, 0.9957],\n",
              "         [0.1174, 0.6924, 0.8669]],\n",
              "\n",
              "        [[0.5750, 0.0350, 0.3175],\n",
              "         [0.1636, 0.4770, 0.8031],\n",
              "         [0.8744, 0.1840, 0.6370],\n",
              "         [0.9747, 0.6833, 0.1749]],\n",
              "\n",
              "        [[0.5591, 0.2550, 0.0118],\n",
              "         [0.5452, 0.3866, 0.9713],\n",
              "         [0.0390, 0.0502, 0.0017],\n",
              "         [0.5507, 0.9009, 0.6673]]])"
            ]
          },
          "metadata": {},
          "execution_count": 184
        }
      ]
    },
    {
      "cell_type": "code",
      "source": [
        "x_original[:, :, 0]\n",
        "x_original[:, 0, 0]\n",
        "x_original[0, 0, 0] = 0.7869\n",
        "x_permuted"
      ],
      "metadata": {
        "colab": {
          "base_uri": "https://localhost:8080/"
        },
        "id": "Hgbqpnz8qrEa",
        "outputId": "837e0841-9d69-4e3f-fd42-a917365bf532"
      },
      "execution_count": 190,
      "outputs": [
        {
          "output_type": "execute_result",
          "data": {
            "text/plain": [
              "tensor([[[0.7869, 0.1813, 0.5877, 0.6472],\n",
              "         [0.2979, 0.5829, 0.6329, 0.1618],\n",
              "         [0.8346, 0.8522, 0.9029, 0.1174],\n",
              "         [0.5750, 0.1636, 0.8744, 0.9747],\n",
              "         [0.5591, 0.5452, 0.0390, 0.5507]],\n",
              "\n",
              "        [[0.9994, 0.1749, 0.0304, 0.1246],\n",
              "         [0.2669, 0.9185, 0.5439, 0.9130],\n",
              "         [0.0532, 0.8996, 0.2250, 0.6924],\n",
              "         [0.0350, 0.4770, 0.1840, 0.6833],\n",
              "         [0.2550, 0.3866, 0.0502, 0.9009]],\n",
              "\n",
              "        [[0.5567, 0.7606, 0.6445, 0.0339],\n",
              "         [0.1865, 0.2534, 0.2000, 0.1913],\n",
              "         [0.8170, 0.5779, 0.9957, 0.8669],\n",
              "         [0.3175, 0.8031, 0.6370, 0.1749],\n",
              "         [0.0118, 0.9713, 0.0017, 0.6673]]])"
            ]
          },
          "metadata": {},
          "execution_count": 190
        }
      ]
    }
  ]
}